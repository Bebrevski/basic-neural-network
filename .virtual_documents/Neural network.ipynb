# Import of libraries we are going to use
import numpy as np
import matplotlib.pyplot as plt
import networkx as nx

from sklearn.datasets import make_moons

from IPython.display import display, HTML, IFrame
import io
import base64









































# 1. Create network architecture
L = 3 # number of layers
n = [2, 3, 3, 1] # layer distribution
epochs = 10000 # training iterations

print("layer 0 / input layer size", n[0])
print("layer 1 size", n[1])
print("layer 2 size", n[2])
print("layer 3 size", n[3])


# 2. Create weights and biases
W1 = np.random.randn(n[1], n[0])
W2 = np.random.randn(n[2], n[1])
W3 = np.random.randn(n[3], n[2])
b1 = np.random.randn(n[1], 1)
b2 = np.random.randn(n[2], 1)
b3 = np.random.randn(n[3], 1)

print("Weights for layer 1 shape:", W1.shape)
print("Weights for layer 2 shape:", W2.shape)
print("Weights for layer 3 shape:", W3.shape)
print("bias for layer 1 shape:", b1.shape)
print("bias for layer 2 shape:", b2.shape)
print("bias for layer 3 shape:", b3.shape)





def visualize_feeding_data():
    
    X, y = make_moons(noise=0.1, random_state=0) # label 0 - upper (violet red); label 1 - lower (slate blue)

    print('Feeding data and labels for each point')
    print(X.T, y)
    
    plt.scatter(X[:, 0], X[:, 1], c=y, cmap=plt.cm.Spectral, alpha=0.6)
    plt.title("Moons pattern")

    # Annotate cluster labels
    plt.text(-1.0, 1.1, "Cluster 0", fontsize=12, color="palevioletred")
    plt.text(1.5, -0.7, "Cluster 1", fontsize=12, color="mediumslateblue")

    plt.grid(True)


    img_stream = io.BytesIO()
    plt.savefig(img_stream, format='png', bbox_inches='tight')
    img_stream.seek(0)
    img_base64 = base64.b64encode(img_stream.read()).decode('utf-8')
    plt.close()
    img_html = f"""
    <div style="text-align:center; margin-top:20px;">
        <img src="data:image/png;base64,{img_base64}" style="width: 40%;">
    </div>
    """
    display(HTML(img_html))

visualize_feeding_data()





# Define the Sigmoid function
def g(x):
    return 1 / (1 + np.exp(-1 * x))





# 3. Create training data and labels
def prepare_data():
    X, y = make_moons(noise=0.1, random_state=0)
    m = X.shape[0] # number of training samples
     
    A0 = X.T # Transposed input dataset
    Y = y.reshape(n[3], m) # Reshape provided y (vector) data to matrix

    return A0, Y, m

A0, Y, m = prepare_data()





# 4. Define the Feed Forward function
def feed_forward(A0):

    # layer 1 calculations
    Z1 = W1 @ A0 + b1
    A1 = g(Z1)
    
    # layer 2 calculation
    Z2 = W2 @ A1 + b2
    A2 = g(Z2)
    
    # layer 3 calculations
    Z3 = W3 @ A2 + b3
    A3 = g(Z3)

    cache = {
        "A0": A0,
        "A1": A1,
        "A2": A2
    }

    return A3, cache





y_hat, cache = feed_forward(A0)
print(y_hat)











# 5. Calculate cost
def cost(y_hat, y):
    """
      y_hat should be n^L x m matrix
      y should be n^L x m matrix
    """
    # 1. losses is a n^L x m
    losses = - ((y * np.log(y_hat)) + (1 - y) * np.log(1 - y_hat))

    m = y_hat.reshape(-1).shape[0]

    # 2. summing across axis = 1 means we sum across rows, 
    #    making this a n^L x 1 matrix
    
    summed_losses = (1 / m) * np.sum(losses, axis=1)

    return np.sum(summed_losses)





cost(y_hat, Y)
































def backprop_layer_3(y_hat, Y, m, A2, W3):
  A3 = y_hat
  
  # step 1. calculate dC/dZ3 using shorthand
  dC_dZ3 = (1/m) * (A3 - Y)
  assert dC_dZ3.shape == (n[3], m)


  # step 2. calculate dC/dW3 = dC/dZ3 * dZ3/dW3 
  #   we matrix multiply dC/dZ3 with (dZ3/dW3)^T
  dZ3_dW3 = A2
  assert dZ3_dW3.shape == (n[2], m)

  dC_dW3 = dC_dZ3 @ dZ3_dW3.T
  assert dC_dW3.shape == (n[3], n[2])

  # step 3. calculate dC/db3 = np.sum(dC/dZ3, axis=1, keepdims=True)
  dC_db3 = np.sum(dC_dZ3, axis=1, keepdims=True)
  assert dC_db3.shape == (n[3], 1)

  # step 4. calculate propagator dC/dA2 = dC/dZ3 * dZ3/dA2
  dZ3_dA2 = W3 
  dC_dA2 = W3.T @ dC_dZ3
  assert dC_dA2.shape == (n[2], m)

  return dC_dW3, dC_db3, dC_dA2


def backprop_layer_2(propagator_dC_dA2, A1, A2, W2):

  # step 1. calculate dC/dZ2 = dC/dA2 * dA2/dZ2

  # use sigmoid derivation to arrive at this answer:
  #   sigmoid'(z) = sigmoid(z) * (1 - sigmoid(z))
  #     and if a = sigmoid(z), then sigmoid'(z) = a * (1 - a)
  dA2_dZ2 = A2 * (1 - A2)
  dC_dZ2 = propagator_dC_dA2 * dA2_dZ2
  assert dC_dZ2.shape == (n[2], m)


  # step 2. calculate dC/dW2 = dC/dZ2 * dZ2/dW2 
  dZ2_dW2 = A1
  assert dZ2_dW2.shape == (n[1], m)

  dC_dW2 = dC_dZ2 @ dZ2_dW2.T
  assert dC_dW2.shape == (n[2], n[1])

  # step 3. calculate dC/db2 = np.sum(dC/dZ2, axis=1, keepdims=True)
  dC_db2 = np.sum(dC_dW2, axis=1, keepdims=True)
  assert dC_db2.shape == (n[2], 1)

  # step 4. calculate propagator dC/dA1 = dC/dZ2 * dZ2/dA1
  dZ2_dA1 = W2
  dC_dA1 = W2.T @ dC_dZ2
  assert dC_dA1.shape == (n[2], m)

  return dC_dW2, dC_db2, dC_dA1


def backprop_layer_1(propagator_dC_dA1, A1, A0, W1):

  # step 1. calculate dC/dZ1 = dC/dA1 * dA1/dZ1

  # use sigmoid derivation to arrive at this answer:
  #   sigmoid'(z) = sigmoid(z) * (1 - sigmoid(z))
  #     and if a = sigmoid(z), then sigmoid'(z) = a * (1 - a)
  dA1_dZ1 = A1 * (1 - A1)
  dC_dZ1 = propagator_dC_dA1 * dA1_dZ1
  assert dC_dZ1.shape == (n[1], m)


  # step 2. calculate dC/dW1 = dC/dZ1 * dZ1/dW1 
  dZ1_dW1 = A0
  assert dZ1_dW1.shape == (n[0], m)

  dC_dW1 = dC_dZ1 @ dZ1_dW1.T
  assert dC_dW1.shape == (n[1], n[0])

  # step 3. calculate dC/db1 = np.sum(dC/dZ1, axis=1, keepdims=True)
  dC_db1 = np.sum(dC_dW1, axis=1, keepdims=True)
  assert dC_db1.shape == (n[1], 1)

  return dC_dW1, dC_db1











def train():
  # must use global keyword in order to modify global variables
  global W3, W2, W1, b3, b2, b1

  alpha = 0.1 # set learning rate to 0.1
  costs = [] # list to store costs

  for e in range(epochs):
    # 1. FEED FORWARD
    y_hat, cache = feed_forward(A0)
    
    # 2. COST CALCULATION
    error = cost(y_hat, Y)
    costs.append(error)

    # 3. BACKPROP CALCULATIONS

    dC_dW3, dC_db3, dC_dA2 = backprop_layer_3(
        y_hat, 
        Y, 
        m, 
        A2= cache["A2"], 
        W3=W3
    )

    dC_dW2, dC_db2, dC_dA1 = backprop_layer_2(
        propagator_dC_dA2=dC_dA2, 
        A1=cache["A1"],
        A2=cache["A2"],
        W2=W2
    )

    dC_dW1, dC_db1 = backprop_layer_1(
        propagator_dC_dA1=dC_dA1, 
        A1=cache["A1"],
        A0=cache["A0"],
        W1=W1
    )

    # 4. UPDATE WEIGHTS
    W3 = W3 - (alpha * dC_dW3)
    W2 = W2 - (alpha * dC_dW2)
    W1 = W1 - (alpha * dC_dW1)

    b3 = b3 - (alpha * dC_db3)
    b2 = b2 - (alpha * dC_db2)
    b1 = b1 - (alpha * dC_db1)
  
  return costs





costs = train()
iterations = np.linspace(0, epochs, epochs)





def visualize_cost():
    plt.plot(iterations, costs)
    img_stream = io.BytesIO()
    plt.savefig(img_stream, format='png', bbox_inches='tight')
    img_stream.seek(0)
    img_base64 = base64.b64encode(img_stream.read()).decode('utf-8')
    plt.close()
    img_html = f"""
    <div style="text-align:center; margin-top:20px;">
        <img src="data:image/png;base64,{img_base64}" style="width: 40%;">
    </div>
    """
    display(HTML(img_html))
visualize_cost()








def predict(X_input):
    Z1 = W1 @ X_input + b1
    A1 = g(Z1)
    
    Z2 = W2 @ A1 + b2
    A2 = g(Z2)
    
    Z3 = W3 @ A2 + b3
    A3 = g(Z3)

    return A3





def visualize_test_point_on_moons(test_point):
    # Predict
    prediction = predict(test_point)[0, 0]
    predicted_class = int(prediction > 0.5)
    print(f"Test Point: {test_point.ravel()}, Prediction: {prediction:.4f}, Cluster: {predicted_class}")

    # Set color of the random point
    color = "black"

    # Axis limits based on moon data
    x_min, x_max = A0[0, :].min() - 0.5, A0[0, :].max() + 0.5
    y_min, y_max = A0[1, :].min() - 0.5, A0[1, :].max() + 0.5

    # Plot
    plt.figure(figsize=(6, 5))
    plt.scatter(A0[0, :], A0[1, :], c=Y.ravel(), cmap=plt.cm.Spectral, alpha=0.6)
    plt.scatter(test_point[0], test_point[1], color=color, s=100, edgecolors="k", label="Test Point")

    # Annotate cluster labels
    plt.text(-1.5, 1.1, "Cluster 0", fontsize=12, color="purple")
    plt.text(1.5, -0.8, "Cluster 1", fontsize=12, color="blue")

    plt.xlim(x_min, x_max)
    plt.ylim(y_min, y_max)
    plt.title("Moons + Test Point")
    plt.grid(True)
    plt.legend()
    
    img_stream = io.BytesIO()
    plt.savefig(img_stream, format='png', bbox_inches='tight')
    img_stream.seek(0)
    img_base64 = base64.b64encode(img_stream.read()).decode('utf-8')
    plt.close()
    img_html = f"""
    <div style="text-align:center; margin-top:20px;">
        <img src="data:image/png;base64,{img_base64}" style="width: 40%;">
    </div>
    """
    display(HTML(img_html))

visualize_test_point_on_moons(np.array([[-1.3], [0.0]]))
visualize_test_point_on_moons(np.array([[-1.0], [1.0]]))
visualize_test_point_on_moons(np.array([[0.5], [0.3]]))
visualize_test_point_on_moons(np.array([[2.0], [0.5]]))
visualize_test_point_on_moons(np.array([[1.0], [-0.5]]))
visualize_test_point_on_moons(np.array([[-0.5], [-0.5]]))
visualize_test_point_on_moons(np.array([[1], [0]]))





def plot_decision_boundary():
    h = 0.01
    x_min, x_max = A0[0, :].min() - 1, A0[0, :].max() + 1
    y_min, y_max = A0[1, :].min() - 1, A0[1, :].max() + 1
    xx, yy = np.meshgrid(np.arange(x_min, x_max, h),
                         np.arange(y_min, y_max, h))

    grid_points = np.c_[xx.ravel(), yy.ravel()].T  # shape: (2, N)
    Z = predict(grid_points)
    Z = Z.reshape(xx.shape)

    plt.contourf(xx, yy, Z, cmap=plt.cm.Spectral, alpha=0.6)
    plt.scatter(A0[0], A0[1], c=Y.ravel(), cmap=plt.cm.Spectral, edgecolors='k')
    plt.title("Decision boundary")
    
    img_stream = io.BytesIO()
    plt.savefig(img_stream, format='png', bbox_inches='tight')
    img_stream.seek(0)
    img_base64 = base64.b64encode(img_stream.read()).decode('utf-8')
    plt.close()
    img_html = f"""
    <div style="text-align:center; margin-top:20px;">
        <img src="data:image/png;base64,{img_base64}" style="width: 40%;">
    </div>
    """
    display(HTML(img_html))

plot_decision_boundary()





L = 3 # number of layers
n = [2, 10, 10, 1] # layer distribution - hidden layers nodes increased from 3 to 10
epochs = 100000 # training iterations

W1 = np.random.randn(n[1], n[0])
W2 = np.random.randn(n[2], n[1])
W3 = np.random.randn(n[3], n[2])
b1 = np.random.randn(n[1], 1)
b2 = np.random.randn(n[2], 1)
b3 = np.random.randn(n[3], 1)











costs = train()
iterations = np.linspace(0, epochs, epochs)





def visualize_cost():
    plt.plot(iterations, costs)
    img_stream = io.BytesIO()
    plt.savefig(img_stream, format='png', bbox_inches='tight')
    img_stream.seek(0)
    img_base64 = base64.b64encode(img_stream.read()).decode('utf-8')
    plt.close()
    img_html = f"""
    <div style="text-align:center; margin-top:20px;">
        <img src="data:image/png;base64,{img_base64}" style="width: 40%;">
    </div>
    """
    display(HTML(img_html))
visualize_cost()








plot_decision_boundary()








visualize_test_point_on_moons(np.array([[1], [0]]))























def visualize_neural_net_architecture():
    # Schema of the neural network
    G = nx.DiGraph()
    
    # Adjust spacing
    vertical_spacing = 1.5
    horizontal_spacing = 2
    
    # Position nodes
    pos = {}
    for layer_idx, num_nodes in enumerate(n):
        for node_idx in range(num_nodes):
            x = layer_idx * horizontal_spacing
            y = (num_nodes - 1 - node_idx) * vertical_spacing - (num_nodes - 1) * vertical_spacing / 2
            node_name = f"L{layer_idx}N{node_idx}"
            G.add_node(node_name)
            pos[node_name] = (x, y)
    
    # Add edges
    for layer_idx in range(len(n) - 1):
        for src in range(n[layer_idx]):
            for dst in range(n[layer_idx + 1]):
                G.add_edge(f"L{layer_idx}N{src}", f"L{layer_idx + 1}N{dst}")
    
    # Draw the graph
    plt.figure(figsize=(8, 5))
    nx.draw(G, pos, with_labels=False, node_size=1000, node_color="lightblue", arrows=True)
    
    plt.title("Neural net architecture")
    plt.axis("off")
    
    # Center the figure
    img_stream = io.BytesIO()
    plt.savefig(img_stream, format='png', bbox_inches='tight')
    img_stream.seek(0)
    img_base64 = base64.b64encode(img_stream.read()).decode('utf-8')
    plt.close()
    img_html = f"""
    <div style="text-align:center; margin-top:20px;">
        <img src="data:image/png;base64,{img_base64}" style="width: 40%;">
    </div>
    """
    display(HTML(img_html))

visualize_neural_net_architecture()


def visualize_sigmoid_function():
    sigmoid_x = np.linspace(-6, 6, 1000)
    sigmoid_y = 1 / (1 + np.exp(-sigmoid_x))
    
    ax = plt.gca() 
    ax.spines["bottom"].set_position("zero") 
    ax.spines["left"].set_position("zero") 
    ax.spines["top"].set_visible(False) 
    ax.spines["right"].set_visible(False) 
    
    ax.set_yticks([tick for tick in ax.get_yticks() if tick != 0])
    ax.annotate("0", xy = (-0.4, -1))
    
    plt.plot(sigmoid_x, sigmoid_y)
    plt.xlabel("x")
    plt.ylabel("f(x)")
    plt.legend([r"$f(x) = \frac{1}{1 + e^{-x}}$"])
    plt.grid()
    plt.title("Sigmoid function")
    
    img_stream = io.BytesIO()
    plt.savefig(img_stream, format='png', bbox_inches='tight')
    img_stream.seek(0)
    img_base64 = base64.b64encode(img_stream.read()).decode('utf-8')
    plt.close()
    img_html = f"""
    <div style="text-align:center; margin-top:20px;">
        <img src="data:image/png;base64,{img_base64}" style="width: 40%;">
    </div>
    """
    display(HTML(img_html))

visualize_sigmoid_function()


def visualize_weights():
    G = nx.DiGraph()

    positions = {
        '2': (0, 1),
        '3': (0, -1),
        'h1': (2, 2),
        'h2': (2, 0),
        'h3': (2, -2),
    }
    
    edges = [
        ('2', 'h1', 5, 'red'),
        ('2', 'h2', 6, 'red'),
        ('3', 'h1', 8, 'green'),
        ('3', 'h2', 9, 'green'),
        ('3', 'h3', 10, 'green'),
        ('2', 'h3', 7, 'red')
    ]
    
    for src, dst, label, color in edges:
        G.add_edge(src, dst, weight=label, color=color)
    
    # Draw nodes
    nx.draw_networkx_nodes(G, pos=positions, node_color='white', edgecolors='black', node_size=1000)
    
    # Draw edges
    edge_colors = [G[u][v]['color'] for u, v in G.edges()]
    nx.draw_networkx_edges(G, pos=positions, edge_color=edge_colors, arrows=False)
    
    nx.draw_networkx_labels(G, pos={k: positions[k] for k in ['2', '3']},
                            labels={'2': '2', '3': '3'},
                            font_size=12, font_weight='bold')
    
    # Manually add edge labels to avoid overlap
    offsets = {
        ('2', 'h1'): (-0.6, -0.3),
        ('2', 'h2'): (-0.6, 0.2),
        ('3', 'h1'): (-0.6, -0.85),
        ('3', 'h2'): (-0.6, -0.35),
        ('3', 'h3'): (-0.6, 0.25),
        ('2', 'h3'): (-0.6, 0.75),
    }
    
    for (u, v), (dx, dy) in offsets.items():
        x = (positions[u][0] + positions[v][0]) / 2 + dx
        y = (positions[u][1] + positions[v][1]) / 2 + dy
        label = G[u][v]['weight']
        plt.text(x, y, str(label), fontsize=10, bbox=dict(facecolor='white', edgecolor='none'))
    
    plt.axis('off')
    
    img_stream = io.BytesIO()
    plt.savefig(img_stream, format='png', bbox_inches='tight')
    img_stream.seek(0)
    img_base64 = base64.b64encode(img_stream.read()).decode('utf-8')
    plt.close()
    img_html = f"""
    <div style="text-align:center; margin-top:20px;">
        <img src="data:image/png;base64,{img_base64}" style="width: 40%;">
    </div>
    """
    display(HTML(img_html))

visualize_weights()


def visualize_parabola():
    x = np.linspace(-10, 10, 200)
    y = x**2
    
    plt.plot(x, y)
    plt.axis('off')  # Remove axes
    plt.show()

visualize_parabola()


def f(x):
    return 0.1 * x**4 - x**2 + np.sin(5 * x)

def visualize_non_convex_function():
    # Generate x values
    x = np.linspace(-4, 4, 400)
    y = f(x)
    
    # Plot the function
    plt.plot(x, y, linewidth=2)
    plt.axis('off')  # Hide axes
    plt.show()

visualize_non_convex_function()


def visualize_last_layer():
    # Node coordinates
    input_layer = [(0, 2), (0, 1), (0, 0)]
    output_layer = [(2, 1)]
    
    # Start plot
    fig, ax = plt.subplots()
    ax.set_aspect('equal')
    ax.axis('off')
    
    # Draw nodes
    for x, y in input_layer + output_layer:
        circle = plt.Circle((x, y), 0.1, edgecolor='black', facecolor='white', lw=2)
        ax.add_patch(circle)
    
    # Draw connections
    for (x1, y1) in input_layer:
        for (x2, y2) in output_layer:
            ax.plot([x1, x2], [y1, y2], color='black', lw=2)
    
    # Set plot limits
    ax.set_xlim(-0.5, 2.5)
    ax.set_ylim(-0.5, 2.5)
    
    plt.show()

visualize_last_layer()
